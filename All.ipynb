{
 "cells": [
  {
   "cell_type": "code",
   "execution_count": 40,
   "id": "d780e5f6-2bc9-40e6-9921-43ad08f6ff5c",
   "metadata": {
    "tags": []
   },
   "outputs": [],
   "source": [
    "import numpy as np\n",
    "import scipy.stats as stats"
   ]
  },
  {
   "cell_type": "markdown",
   "id": "10022361-3fc9-46e8-8f26-e584e7071f8a",
   "metadata": {},
   "source": [
    "### Задача 1. \n",
    "**Известно, что генеральная совокупность распределена нормально со средним квадратическим отклонением, равным 16.**\n",
    "**Найти доверительный интервал для оценки математического ожидания с надежностью 0.95, если выборочная средняя M = 80, а объем выборки n = 256.**"
   ]
  },
  {
   "cell_type": "markdown",
   "id": "66ac7121-ad93-4710-b8fe-95b9f576811a",
   "metadata": {},
   "source": [
    "Так как сигма генеральной совокупности известно, то используем Z-критерий для получения доверительного интервала\n",
    "\n",
    "$n=256$ - объем выборки\\\n",
    "$\\bar X=M=80$ - среднее значение выборки\\   \n",
    "$\\sigma=16$ - среднее квадратическое отклонение генеральной совокупности\\  \n",
    "$z_{\\alpha/2}=1,96$  - табличное значение Z-критерия для 95% доверительного интервала\n",
    "\n",
    "Формула нахождения доверительного интервала  \n",
    "$\\displaystyle\\bar X\\pm z_{\\alpha/2}\\cdot\\frac{\\sigma}{\\sqrt n}$   \n"
   ]
  },
  {
   "cell_type": "code",
   "execution_count": 37,
   "id": "33cc70e9-6c4b-4f8c-9c0c-22aea679633a",
   "metadata": {
    "tags": []
   },
   "outputs": [
    {
     "name": "stdout",
     "output_type": "stream",
     "text": [
      "Доверительный интервал по указанным условиям: 78.04 ; 81.96\n"
     ]
    }
   ],
   "source": [
    "left_border=80-1.96*16/256**0.5\n",
    "right_border=80+1.96*16/256**0.5\n",
    "print(f'Доверительный интервал по указанным условиям: {left_border} ; {right_border}')"
   ]
  },
  {
   "cell_type": "markdown",
   "id": "3afd5769-ce71-4fc6-9c3a-77a177612c1b",
   "metadata": {},
   "source": [
    "### Задача 2\n",
    "**В результате 10 независимых измерений некоторой величины X, выполненных с одинаковой точностью,получены опытные данные: 6.9, 6.1, 6.2, 6.8, 7.5, 6.3, 6.4, 6.9, 6.7, 6.1  \n",
    "Предполагая, что результаты измерений подчинены нормальному закону распределения вероятностей, оценить истинное значение величины X при помощи доверительного интервала, покрывающего это значение с доверительной вероятностью 0,95.**"
   ]
  },
  {
   "cell_type": "markdown",
   "id": "2e859632-df3d-4361-9c34-058551eaa31e",
   "metadata": {
    "tags": []
   },
   "source": [
    "Чтобы узнать сигму, используем формулу для определения несмещенного стандартного отклонения.\\\n",
    "$\\displaystyle\\bar X\\pm t_{\\alpha/2}\\cdot\\frac{\\sigma}{\\sqrt{n}}$  "
   ]
  },
  {
   "cell_type": "code",
   "execution_count": 38,
   "id": "0144644b-7a2a-4550-9315-e9abba782f89",
   "metadata": {
    "tags": []
   },
   "outputs": [
    {
     "name": "stdout",
     "output_type": "stream",
     "text": [
      "Среднее арифметическое: 6.59\n",
      "Несмещенное среднее квадратическое отклонение: 0.45\n",
      "t-критерий для 95.0% доверительного интервала: 2.26\n",
      "Доверительный интервал для величины X: [6.27 ; 6.91]\n"
     ]
    }
   ],
   "source": [
    "array = [6.9, 6.1, 6.2, 6.8, 7.5, 6.3, 6.4, 6.9, 6.7, 6.1]\n",
    "n = len(array)\n",
    "x = np.mean(array)\n",
    "print(f'Среднее арифметическое: {x:.2f}')\n",
    "a = 0.05\n",
    "sigma = np.std(array, ddof=1)\n",
    "print(f'Несмещенное среднее квадратическое отклонение: {sigma:.2f}')\n",
    "stats = stats.t.ppf( 1-a/2, n-1)\n",
    "print(f't-критерий для {(1-a)*100}% доверительного интервала: {stats:.2f}')\n",
    "left_border=x-stats*sigma/np.sqrt(n)\n",
    "right_border=x+stats*sigma/np.sqrt(n)\n",
    "print(f'Доверительный интервал для величины X: [{left_border:.2f} ; {right_border:.2f}]')"
   ]
  },
  {
   "cell_type": "markdown",
   "id": "a58c1a15-fb27-42a8-8bf7-671038e67a04",
   "metadata": {},
   "source": [
    "### Задача 3.\n",
    "**Рост дочерей 175, 167, 154, 174, 178, 148, 160, 167, 169, 170**\\\n",
    "**Рост матерей 178, 165, 165, 173, 168, 155, 160, 164, 178, 175**\\\n",
    "**Используя эти данные построить 95% доверительный интервал для разности среднего роста родителей и детей.**"
   ]
  },
  {
   "cell_type": "markdown",
   "id": "d3afe27a-0864-4234-93d4-ac4ec89bda93",
   "metadata": {},
   "source": [
    "Интервальная оценка для разности средних арифметических по формуле: \n",
    " \n",
    "$\\bar{x}_1 - \\bar{x}2 \\pm t{\\frac{\\alpha}{2}} \\sqrt{\\frac{s_1^2}{n_1} + \\frac{s_2^2}{n_2}}$\n",
    "\n",
    "где:  \n",
    "$\\bar{x}_1$ - среднее арифметическое в группе 1  \n",
    "$\\bar{x}2$ - среднее арифметическое в группе 2  \n",
    "$s_1^2$ - дисперсия в группе 1  \n",
    "$s_2^2$ - дисперсия в группе 2  \n",
    "$n_1$ - число элементов в группе 1  \n",
    "$n_2$ - число элементов в группе 2"
   ]
  },
  {
   "cell_type": "code",
   "execution_count": 41,
   "id": "aa9441ee-2ba2-4c68-849c-c2adf7e30a69",
   "metadata": {
    "tags": []
   },
   "outputs": [
    {
     "name": "stdout",
     "output_type": "stream",
     "text": [
      "95% доверительный интервал для разности среднего роста родителей и детей: [-6.27, 10.07]\n"
     ]
    }
   ],
   "source": [
    "mothers = np.array([178, 165, 165, 173, 168, 155, 160, 164, 178, 175])\n",
    "daughters = np.array([175, 167, 154, 174, 178, 148, 160, 167, 169, 170])\n",
    "differences = np.mean(mothers) - np.mean(daughters)\n",
    "standard_error = np.sqrt(np.var(mothers, ddof=1)/len(mothers) + np.var(daughters, ddof=1)/len(daughters))\n",
    "t_critical = stats.t.ppf(0.975, len(mothers) + len(daughters) - 2)\n",
    "left_border = differences - t_critical * standard_error\n",
    "right_border = differences + t_critical * standard_error\n",
    "\n",
    "print(f'95% доверительный интервал для разности среднего роста родителей и детей: [{left_border:.2f}, {right_border:.2f}]')\n"
   ]
  },
  {
   "cell_type": "code",
   "execution_count": null,
   "id": "709ad467-10dd-4b2a-9889-2b4e4136f48c",
   "metadata": {},
   "outputs": [],
   "source": []
  }
 ],
 "metadata": {
  "kernelspec": {
   "display_name": "Python 3 (ipykernel)",
   "language": "python",
   "name": "python3"
  },
  "language_info": {
   "codemirror_mode": {
    "name": "ipython",
    "version": 3
   },
   "file_extension": ".py",
   "mimetype": "text/x-python",
   "name": "python",
   "nbconvert_exporter": "python",
   "pygments_lexer": "ipython3",
   "version": "3.11.4"
  }
 },
 "nbformat": 4,
 "nbformat_minor": 5
}
